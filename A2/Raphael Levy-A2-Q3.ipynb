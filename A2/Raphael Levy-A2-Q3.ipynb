{
 "cells": [
  {
   "cell_type": "markdown",
   "id": "acting-listing",
   "metadata": {},
   "source": [
    "### Questão 6\n",
    "\n",
    "#### Um par de dados honestos são lançados repetidamente até que todos os possíveis resultados das somas (i.e., 2, ..., 12) tenham acontecido ao menos uma vez. Faça um estudo por simulação para estimar o número médio de lançamentos que são necessários para obter todas essas possíveis somas."
   ]
  },
  {
   "cell_type": "code",
   "execution_count": 1,
   "id": "deadly-portable",
   "metadata": {},
   "outputs": [],
   "source": [
    "import numpy as np\n",
    "import pandas as pd\n",
    "import random\n",
    "import matplotlib.pyplot as plt"
   ]
  },
  {
   "cell_type": "code",
   "execution_count": 2,
   "id": "blind-shelf",
   "metadata": {},
   "outputs": [],
   "source": [
    "def soma_Dados(num_throws):\n",
    "    results = [] # armazena todos os resultados dos dados\n",
    "    sum_throws = [] # armazena quantos lances foram necessários para atingir todos os resultados\n",
    "    aux = set(range(2, 13)) # armazena todas as somas possíveis para 2 dados\n",
    "    \n",
    "    #num_throws = ... # quantas jogadas o algoritmo irá fazer\n",
    "    count = 0\n",
    "\n",
    "    for i in range(num_throws):\n",
    "      # joga dois dados e soma\n",
    "        dice_1 = random.randint(1, 6)\n",
    "        dice_2 = random.randint(1, 6)\n",
    "        roll = dice_1 + dice_2\n",
    "        \n",
    "      # adicona a soma à lista de somas\n",
    "        results.append(roll)\n",
    "      # contador dos lançamentos \n",
    "        count += 1\n",
    "        \n",
    "      # remove a soma do set aux\n",
    "        if roll in aux: \n",
    "            aux.remove(roll)\n",
    "      # printa o resultado de cada lançamento e os valores que ainda faltam      \n",
    "        if num_throws <= 10**2:  \n",
    "            print(f\"{count} | {roll} | {aux}\")\n",
    "            \n",
    "      # se todas as somas possíveis forem alcançadas:\n",
    "        if len(aux) == 0:\n",
    "        # armazena a contagem\n",
    "            sum_throws.append(count)\n",
    "        # reinicia a contagem e o set aux\n",
    "            aux = set(range(2, 13))\n",
    "            count = 0\n",
    "  \n",
    "    results = pd.Series(results)\n",
    "    print(' ')\n",
    "    print(f\"Quantas vezes cada soma saiu:\\n{results.value_counts()}\\n\")\n",
    "    print(f\"Porcentagem de cada soma:\\n{results.value_counts()/num_throws * 100}% \\n\")\n",
    "    if num_throws <= 10**4:\n",
    "        print(f\"Número de jogadas necessárias até conseguirmos todas as somas:\\n {sum_throws}\\n\")\n",
    "    print(f\"Número total de jogadas completas:\\n {sum(sum_throws)}\\n\")\n",
    "    print(f\"Número total de iterações completas:\\n {len(sum_throws)}\\n\")\n",
    "    print(f\"Número médio de jogadas necessárias: \\n {np.mean(sum_throws)}\\n\")\n",
    "    results.hist(bins = 11)\n",
    "    plt.show()"
   ]
  },
  {
   "cell_type": "code",
   "execution_count": 3,
   "id": "funky-theorem",
   "metadata": {
    "scrolled": false
   },
   "outputs": [
    {
     "name": "stdout",
     "output_type": "stream",
     "text": [
      "1 | 10 | {2, 3, 4, 5, 6, 7, 8, 9, 11, 12}\n",
      "2 | 7 | {2, 3, 4, 5, 6, 8, 9, 11, 12}\n",
      "3 | 8 | {2, 3, 4, 5, 6, 9, 11, 12}\n",
      "4 | 8 | {2, 3, 4, 5, 6, 9, 11, 12}\n",
      "5 | 9 | {2, 3, 4, 5, 6, 11, 12}\n",
      "6 | 5 | {2, 3, 4, 6, 11, 12}\n",
      "7 | 9 | {2, 3, 4, 6, 11, 12}\n",
      "8 | 5 | {2, 3, 4, 6, 11, 12}\n",
      "9 | 5 | {2, 3, 4, 6, 11, 12}\n",
      "10 | 8 | {2, 3, 4, 6, 11, 12}\n",
      "11 | 9 | {2, 3, 4, 6, 11, 12}\n",
      "12 | 7 | {2, 3, 4, 6, 11, 12}\n",
      "13 | 11 | {2, 3, 4, 6, 12}\n",
      "14 | 6 | {2, 3, 4, 12}\n",
      "15 | 6 | {2, 3, 4, 12}\n",
      "16 | 9 | {2, 3, 4, 12}\n",
      "17 | 6 | {2, 3, 4, 12}\n",
      "18 | 7 | {2, 3, 4, 12}\n",
      "19 | 9 | {2, 3, 4, 12}\n",
      "20 | 11 | {2, 3, 4, 12}\n",
      "21 | 6 | {2, 3, 4, 12}\n",
      "22 | 10 | {2, 3, 4, 12}\n",
      "23 | 8 | {2, 3, 4, 12}\n",
      "24 | 3 | {2, 4, 12}\n",
      "25 | 12 | {2, 4}\n",
      "26 | 4 | {2}\n",
      "27 | 3 | {2}\n",
      "28 | 4 | {2}\n",
      "29 | 9 | {2}\n",
      "30 | 7 | {2}\n",
      "31 | 8 | {2}\n",
      "32 | 9 | {2}\n",
      "33 | 5 | {2}\n",
      "34 | 7 | {2}\n",
      "35 | 9 | {2}\n",
      "36 | 7 | {2}\n",
      "37 | 8 | {2}\n",
      "38 | 8 | {2}\n",
      "39 | 8 | {2}\n",
      "40 | 8 | {2}\n",
      "41 | 7 | {2}\n",
      "42 | 8 | {2}\n",
      "43 | 7 | {2}\n",
      "44 | 8 | {2}\n",
      "45 | 4 | {2}\n",
      "46 | 7 | {2}\n",
      "47 | 2 | set()\n",
      "1 | 7 | {2, 3, 4, 5, 6, 8, 9, 10, 11, 12}\n",
      "2 | 5 | {2, 3, 4, 6, 8, 9, 10, 11, 12}\n",
      "3 | 3 | {2, 4, 6, 8, 9, 10, 11, 12}\n",
      "4 | 8 | {2, 4, 6, 9, 10, 11, 12}\n",
      "5 | 12 | {2, 4, 6, 9, 10, 11}\n",
      "6 | 6 | {2, 4, 9, 10, 11}\n",
      "7 | 10 | {2, 4, 9, 11}\n",
      "8 | 5 | {2, 4, 9, 11}\n",
      "9 | 3 | {2, 4, 9, 11}\n",
      "10 | 11 | {2, 4, 9}\n",
      "11 | 9 | {2, 4}\n",
      "12 | 7 | {2, 4}\n",
      "13 | 12 | {2, 4}\n",
      "14 | 3 | {2, 4}\n",
      "15 | 7 | {2, 4}\n",
      "16 | 8 | {2, 4}\n",
      "17 | 6 | {2, 4}\n",
      "18 | 6 | {2, 4}\n",
      "19 | 3 | {2, 4}\n",
      "20 | 5 | {2, 4}\n",
      "21 | 8 | {2, 4}\n",
      "22 | 7 | {2, 4}\n",
      "23 | 11 | {2, 4}\n",
      "24 | 5 | {2, 4}\n",
      "25 | 9 | {2, 4}\n",
      "26 | 9 | {2, 4}\n",
      "27 | 8 | {2, 4}\n",
      "28 | 6 | {2, 4}\n",
      "29 | 7 | {2, 4}\n",
      "30 | 10 | {2, 4}\n",
      "31 | 9 | {2, 4}\n",
      "32 | 10 | {2, 4}\n",
      "33 | 3 | {2, 4}\n",
      "34 | 3 | {2, 4}\n",
      "35 | 4 | {2}\n",
      "36 | 4 | {2}\n",
      "37 | 5 | {2}\n",
      "38 | 2 | set()\n",
      "1 | 9 | {2, 3, 4, 5, 6, 7, 8, 10, 11, 12}\n",
      "2 | 7 | {2, 3, 4, 5, 6, 8, 10, 11, 12}\n",
      "3 | 5 | {2, 3, 4, 6, 8, 10, 11, 12}\n",
      "4 | 3 | {2, 4, 6, 8, 10, 11, 12}\n",
      "5 | 2 | {4, 6, 8, 10, 11, 12}\n",
      "6 | 2 | {4, 6, 8, 10, 11, 12}\n",
      "7 | 6 | {4, 8, 10, 11, 12}\n",
      "8 | 10 | {4, 8, 11, 12}\n",
      "9 | 7 | {4, 8, 11, 12}\n",
      "10 | 6 | {4, 8, 11, 12}\n",
      "11 | 6 | {4, 8, 11, 12}\n",
      "12 | 5 | {4, 8, 11, 12}\n",
      "13 | 6 | {4, 8, 11, 12}\n",
      "14 | 8 | {4, 11, 12}\n",
      "15 | 9 | {4, 11, 12}\n",
      " \n",
      "Quantas vezes cada soma saiu:\n",
      "7     16\n",
      "8     16\n",
      "9     14\n",
      "6     12\n",
      "5     11\n",
      "3      9\n",
      "10     6\n",
      "4      5\n",
      "2      4\n",
      "11     4\n",
      "12     3\n",
      "dtype: int64\n",
      "\n",
      "Porcentagem de cada soma:\n",
      "7     16.0\n",
      "8     16.0\n",
      "9     14.0\n",
      "6     12.0\n",
      "5     11.0\n",
      "3      9.0\n",
      "10     6.0\n",
      "4      5.0\n",
      "2      4.0\n",
      "11     4.0\n",
      "12     3.0\n",
      "dtype: float64% \n",
      "\n",
      "Número de jogadas necessárias até conseguirmos todas as somas:\n",
      " [47, 38]\n",
      "\n",
      "Número total de jogadas completas:\n",
      " 85\n",
      "\n",
      "Número total de iterações completas:\n",
      " 2\n",
      "\n",
      "Número médio de jogadas necessárias: \n",
      " 42.5\n",
      "\n"
     ]
    },
    {
     "data": {
      "image/png": "[encoded data removed]",
      "text/plain": [
       "<Figure size 640x480 with 1 Axes>"
      ]
     },
     "metadata": {},
     "output_type": "display_data"
    }
   ],
   "source": [
    "soma_Dados(10**2)"
   ]
  },
  {
   "cell_type": "code",
   "execution_count": 4,
   "id": "proud-penalty",
   "metadata": {},
   "outputs": [
    {
     "name": "stdout",
     "output_type": "stream",
     "text": [
      " \n",
      "Quantas vezes cada soma saiu:\n",
      "6     148\n",
      "7     145\n",
      "8     136\n",
      "9     114\n",
      "5     109\n",
      "4      91\n",
      "10     79\n",
      "3      72\n",
      "11     52\n",
      "12     34\n",
      "2      20\n",
      "dtype: int64\n",
      "\n",
      "Porcentagem de cada soma:\n",
      "6     14.8\n",
      "7     14.5\n",
      "8     13.6\n",
      "9     11.4\n",
      "5     10.9\n",
      "4      9.1\n",
      "10     7.9\n",
      "3      7.2\n",
      "11     5.2\n",
      "12     3.4\n",
      "2      2.0\n",
      "dtype: float64% \n",
      "\n",
      "Número de jogadas necessárias até conseguirmos todas as somas:\n",
      " [96, 29, 212, 64, 70, 125, 38, 49, 57, 66, 83, 48, 33]\n",
      "\n",
      "Número total de jogadas completas:\n",
      " 970\n",
      "\n",
      "Número total de iterações completas:\n",
      " 13\n",
      "\n",
      "Número médio de jogadas necessárias: \n",
      " 74.61538461538461\n",
      "\n"
     ]
    },
    {
     "data": {
      "image/png": "[encoded data removed]",
      "text/plain": [
       "<Figure size 640x480 with 1 Axes>"
      ]
     },
     "metadata": {},
     "output_type": "display_data"
    }
   ],
   "source": [
    "soma_Dados(10**3)"
   ]
  },
  {
   "cell_type": "code",
   "execution_count": 5,
   "id": "complicated-postage",
   "metadata": {},
   "outputs": [
    {
     "name": "stdout",
     "output_type": "stream",
     "text": [
      " \n",
      "Quantas vezes cada soma saiu:\n",
      "7     1732\n",
      "8     1435\n",
      "6     1344\n",
      "9     1091\n",
      "5     1082\n",
      "4      859\n",
      "10     775\n",
      "11     564\n",
      "3      548\n",
      "2      307\n",
      "12     263\n",
      "dtype: int64\n",
      "\n",
      "Porcentagem de cada soma:\n",
      "7     17.32\n",
      "8     14.35\n",
      "6     13.44\n",
      "9     10.91\n",
      "5     10.82\n",
      "4      8.59\n",
      "10     7.75\n",
      "11     5.64\n",
      "3      5.48\n",
      "2      3.07\n",
      "12     2.63\n",
      "dtype: float64% \n",
      "\n",
      "Número de jogadas necessárias até conseguirmos todas as somas:\n",
      " [51, 61, 36, 54, 125, 31, 60, 32, 54, 75, 75, 145, 109, 104, 69, 55, 37, 53, 54, 42, 47, 40, 98, 30, 143, 24, 23, 30, 78, 36, 70, 50, 167, 36, 139, 35, 53, 25, 86, 40, 49, 29, 50, 77, 154, 42, 48, 85, 71, 51, 111, 34, 42, 44, 77, 68, 39, 60, 41, 37, 31, 28, 194, 124, 34, 26, 22, 28, 164, 69, 48, 19, 89, 44, 65, 112, 70, 23, 44, 41, 45, 40, 28, 50, 103, 89, 27, 55, 66, 48, 58, 84, 24, 72, 103, 58, 28, 52, 133, 56, 99, 76, 32, 64, 28, 26, 24, 47, 28, 66, 48, 109, 72, 60, 88, 49, 26, 34, 51, 37, 78, 39, 86, 29, 97, 162, 20, 41, 54, 37, 26, 86, 17, 70, 36, 32, 41, 170, 42, 50, 88, 37, 97, 23, 79, 65, 51, 39, 39, 53, 38, 123, 32, 27, 73, 52, 66, 31, 183, 41, 91, 47, 36]\n",
      "\n",
      "Número total de jogadas completas:\n",
      " 9963\n",
      "\n",
      "Número total de iterações completas:\n",
      " 163\n",
      "\n",
      "Número médio de jogadas necessárias: \n",
      " 61.122699386503065\n",
      "\n"
     ]
    },
    {
     "data": {
      "image/png": "[encoded data removed]",
      "text/plain": [
       "<Figure size 640x480 with 1 Axes>"
      ]
     },
     "metadata": {},
     "output_type": "display_data"
    }
   ],
   "source": [
    "soma_Dados(10**4)"
   ]
  },
  {
   "cell_type": "code",
   "execution_count": 6,
   "id": "korean-obligation",
   "metadata": {},
   "outputs": [
    {
     "name": "stdout",
     "output_type": "stream",
     "text": [
      " \n",
      "Quantas vezes cada soma saiu:\n",
      "7     16544\n",
      "8     13970\n",
      "6     13693\n",
      "5     11433\n",
      "9     11210\n",
      "4      8436\n",
      "10     8131\n",
      "3      5581\n",
      "11     5459\n",
      "2      2785\n",
      "12     2758\n",
      "dtype: int64\n",
      "\n",
      "Porcentagem de cada soma:\n",
      "7     16.544\n",
      "8     13.970\n",
      "6     13.693\n",
      "5     11.433\n",
      "9     11.210\n",
      "4      8.436\n",
      "10     8.131\n",
      "3      5.581\n",
      "11     5.459\n",
      "2      2.785\n",
      "12     2.758\n",
      "dtype: float64% \n",
      "\n",
      "Número total de jogadas completas:\n",
      " 99968\n",
      "\n",
      "Número total de iterações completas:\n",
      " 1619\n",
      "\n",
      "Número médio de jogadas necessárias: \n",
      " 61.7467572575664\n",
      "\n"
     ]
    },
    {
     "data": {
      "image/png": "[encoded data removed]",
      "text/plain": [
       "<Figure size 640x480 with 1 Axes>"
      ]
     },
     "metadata": {},
     "output_type": "display_data"
    }
   ],
   "source": [
    "soma_Dados(10**5)"
   ]
  },
  {
   "cell_type": "code",
   "execution_count": 7,
   "id": "palestinian-rider",
   "metadata": {},
   "outputs": [
    {
     "name": "stdout",
     "output_type": "stream",
     "text": [
      " \n",
      "Quantas vezes cada soma saiu:\n",
      "7     166878\n",
      "8     139166\n",
      "6     138535\n",
      "5     111434\n",
      "9     111242\n",
      "10     83651\n",
      "4      82745\n",
      "3      55523\n",
      "11     55312\n",
      "2      27782\n",
      "12     27732\n",
      "dtype: int64\n",
      "\n",
      "Porcentagem de cada soma:\n",
      "7     16.6878\n",
      "8     13.9166\n",
      "6     13.8535\n",
      "5     11.1434\n",
      "9     11.1242\n",
      "10     8.3651\n",
      "4      8.2745\n",
      "3      5.5523\n",
      "11     5.5312\n",
      "2      2.7782\n",
      "12     2.7732\n",
      "dtype: float64% \n",
      "\n",
      "Número total de jogadas completas:\n",
      " 999926\n",
      "\n",
      "Número total de iterações completas:\n",
      " 16336\n",
      "\n",
      "Número médio de jogadas necessárias: \n",
      " 61.20996571988247\n",
      "\n"
     ]
    },
    {
     "data": {
      "image/png": "[encoded data removed]",
      "text/plain": [
       "<Figure size 640x480 with 1 Axes>"
      ]
     },
     "metadata": {},
     "output_type": "display_data"
    }
   ],
   "source": [
    "soma_Dados(10**6)"
   ]
  },
  {
   "cell_type": "code",
   "execution_count": 8,
   "id": "grateful-poison",
   "metadata": {},
   "outputs": [
    {
     "name": "stdout",
     "output_type": "stream",
     "text": [
      " \n",
      "Quantas vezes cada soma saiu:\n",
      "7     1669485\n",
      "6     1390174\n",
      "8     1387163\n",
      "9     1111358\n",
      "5     1111237\n",
      "10     833667\n",
      "4      831944\n",
      "3      555255\n",
      "11     554510\n",
      "2      277712\n",
      "12     277495\n",
      "dtype: int64\n",
      "\n",
      "Porcentagem de cada soma:\n",
      "7     16.69485\n",
      "6     13.90174\n",
      "8     13.87163\n",
      "9     11.11358\n",
      "5     11.11237\n",
      "10     8.33667\n",
      "4      8.31944\n",
      "3      5.55255\n",
      "11     5.54510\n",
      "2      2.77712\n",
      "12     2.77495\n",
      "dtype: float64% \n",
      "\n",
      "Número total de jogadas completas:\n",
      " 9999944\n",
      "\n",
      "Número total de iterações completas:\n",
      " 163211\n",
      "\n",
      "Número médio de jogadas necessárias: \n",
      " 61.27003694603918\n",
      "\n"
     ]
    },
    {
     "data": {
      "image/png": "[encoded data removed]",
      "text/plain": [
       "<Figure size 640x480 with 1 Axes>"
      ]
     },
     "metadata": {},
     "output_type": "display_data"
    }
   ],
   "source": [
    "soma_Dados(10**7)"
   ]
  },
  {
   "cell_type": "markdown",
   "id": "coated-amateur",
   "metadata": {},
   "source": [
    "Como é possível ver, para um número grande de jogadas, a partir de $n = 10^4$, ou seja, a partir de cerca de 150 iterações completas, o número médio necessário até conseguirmos todas as 11 possíveis somas é de aproximadamente 61 lançamentos. "
   ]
  },
  {
   "cell_type": "code",
   "execution_count": null,
   "id": "matched-buyer",
   "metadata": {},
   "outputs": [],
   "source": []
  }
 ],
 "metadata": {
  "kernelspec": {
   "display_name": "Python 3",
   "language": "python",
   "name": "python3"
  },
  "language_info": {
   "codemirror_mode": {
    "name": "ipython",
    "version": 3
   },
   "file_extension": ".py",
   "mimetype": "text/x-python",
   "name": "python",
   "nbconvert_exporter": "python",
   "pygments_lexer": "ipython3",
   "version": "3.8.5"
  }
 },
 "nbformat": 4,
 "nbformat_minor": 5
}
