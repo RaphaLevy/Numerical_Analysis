{
 "cells": [
  {
   "cell_type": "code",
   "execution_count": 1,
   "id": "second-budapest",
   "metadata": {},
   "outputs": [],
   "source": [
    "import numpy as np\n",
    "from scipy.optimize import fsolve"
   ]
  },
  {
   "cell_type": "markdown",
   "id": "surrounded-maker",
   "metadata": {},
   "source": [
    "### Observação: f(x*)"
   ]
  },
  {
   "cell_type": "code",
   "execution_count": 2,
   "id": "speaking-mason",
   "metadata": {},
   "outputs": [
    {
     "data": {
      "text/plain": [
       "array([2.64111235])"
      ]
     },
     "execution_count": 2,
     "metadata": {},
     "output_type": "execute_result"
    }
   ],
   "source": [
    "from scipy.optimize import fsolve\n",
    "\n",
    "f = lambda x: np.log(15 - np.log(x)) - x\n",
    "\n",
    "fsolve(f, [2])"
   ]
  },
  {
   "cell_type": "markdown",
   "id": "russian-script",
   "metadata": {},
   "source": [
    "### Método do Ponto Fixo"
   ]
  },
  {
   "cell_type": "markdown",
   "id": "portuguese-greeting",
   "metadata": {},
   "source": [
    "#### Iterando com f(x):"
   ]
  },
  {
   "cell_type": "code",
   "execution_count": 3,
   "id": "introductory-croatia",
   "metadata": {},
   "outputs": [
    {
     "name": "stdout",
     "output_type": "stream",
     "text": [
      "Iteracao 0: x = 2, f(x) = 0.6607386406201794\n",
      "Iteracao 1: x = 2.0745632968, f(x) = 0.5836136067\n",
      "Iteracao 2: x = 0.5836136067, f(x) = 2.1597082477\n",
      "Iteracao 3: x = 2.1597082477, f(x) = 0.4956460518\n",
      "Iteracao 4: x = 0.4956460518, f(x) = 2.2581352401\n",
      "Iteracao 5: x = 2.2581352401, f(x) = 0.3940823016\n",
      "Iteracao 6: x = 0.3940823016, f(x) = 2.3741968669\n",
      "Iteracao 7: x = 2.3741968669, f(x) = 0.2744812330\n",
      "Iteracao 8: x = 0.2744812330, f(x) = 2.5162465024\n",
      "Iteracao 9: x = 2.5162465024, f(x) = 0.1283122162\n",
      "Iteracao 10: x = 0.1283122162, f(x) = 2.7080308601\n",
      "Iteracao 11: x = 2.7080308601, f(x) = -0.0687036920\n",
      "Iteracao 12: x = -0.0687036920, f(x) = nan\n",
      "Iteracao 13: x = nan, f(x) = nan\n",
      "None\n"
     ]
    },
    {
     "name": "stderr",
     "output_type": "stream",
     "text": [
      "<ipython-input-3-eb659533a9c4>:2: RuntimeWarning: invalid value encountered in log\n",
      "  return np.log(15 - np.log(x)) - x\n"
     ]
    }
   ],
   "source": [
    "def f_fp(x):\n",
    "    return np.log(15 - np.log(x)) - x\n",
    "\n",
    "def fixed_point(x0, tol, n):\n",
    "    count = 0\n",
    "    print('Iteracao' + \" \" + str(count) + ': x = ' + str(x0) + ', f(x) = ' + str(f_fp(x0)))\n",
    "    #print(f\"Guess: {x0}\")\n",
    "    test = f_fp(x0)\n",
    "    if abs(test-x0) < tol:\n",
    "        return(test)\n",
    "\n",
    "\n",
    "    while abs(test - x0) >= tol:\n",
    "        count += 1\n",
    "        x0 = test\n",
    "        test = f_fp(test)\n",
    "        print('Iteracao %d: x = %0.10f, f(x) = %0.10f' % (count, test, f_fp(test)))\n",
    "        #print(f\"Guess: {x0}\")\n",
    "\n",
    "        if abs(test - x0) < tol:\n",
    "            return(test)\n",
    "\n",
    "    return(None)\n",
    "\n",
    "print(f\"{fixed_point(2, 1e-5, 20)}\")\n",
    "\n",
    "\n"
   ]
  },
  {
   "cell_type": "markdown",
   "id": "limiting-baptist",
   "metadata": {},
   "source": [
    "#### Iterando com x = g(x):"
   ]
  },
  {
   "cell_type": "code",
   "execution_count": 4,
   "id": "final-danger",
   "metadata": {},
   "outputs": [
    {
     "name": "stdout",
     "output_type": "stream",
     "text": [
      "Iteracao 0: x = 2, g(x) = 2.6607386406201794\n",
      "Iteracao 1: x = 2.6405844652, g(x) = 2.6411265957\n",
      "Iteracao 2: x = 2.6411265957, g(x) = 2.6411119626\n",
      "Iteracao 3: x = 2.6411119626, g(x) = 2.6411123576\n",
      "Iteracao 4: x = 2.6411123576, g(x) = 2.6411123469\n",
      "\n",
      "Raiz encontrada: 2.6411123576\n"
     ]
    }
   ],
   "source": [
    "def f_fp(x):\n",
    "    return np.log(15 - np.log(x)) - x\n",
    "\n",
    "def g_fp(x):\n",
    "    return np.log(15 - np.log(x))\n",
    "\n",
    "\n",
    "def fixed_point(x0, tol, n):\n",
    "    count = 0\n",
    "    print('Iteracao' + \" \" + str(count) + ': x = ' + str(x0) + ', g(x) = ' + str(g_fp(x0)))\n",
    "    #print(f\"Guess: {x0}\")\n",
    "    test = g_fp(x0)\n",
    "    if abs(test-x0) < tol:\n",
    "        print('\\nRaiz encontrada: %0.10f' % test)\n",
    "\n",
    "\n",
    "    while abs(test - x0) >= tol:\n",
    "        count += 1\n",
    "        x0 = test\n",
    "        test = g_fp(test)\n",
    "        print('Iteracao %d: x = %0.10f, g(x) = %0.10f' % (count, test, g_fp(test)))\n",
    "        #print(f\"Guess: {x0}\")\n",
    "\n",
    "        if abs(test - x0) < tol:\n",
    "            print('\\nRaiz encontrada: %0.10f' % test)\n",
    "        \n",
    "    \n",
    "        \n",
    "    return(None)\n",
    "\n",
    "    \n",
    "fixed_point(2, 1e-5,10)"
   ]
  },
  {
   "cell_type": "markdown",
   "id": "amended-newspaper",
   "metadata": {},
   "source": [
    "#### Aumentando a precisão:"
   ]
  },
  {
   "cell_type": "code",
   "execution_count": 5,
   "id": "elementary-party",
   "metadata": {
    "scrolled": true
   },
   "outputs": [
    {
     "name": "stdout",
     "output_type": "stream",
     "text": [
      "Iteracao 0: x = 2, g(x) = 2.6607386406201794\n",
      "Iteracao 1: x = 2.6405844652, g(x) = 2.6411265957\n",
      "Iteracao 2: x = 2.6411265957, g(x) = 2.6411119626\n",
      "Iteracao 3: x = 2.6411119626, g(x) = 2.6411123576\n",
      "Iteracao 4: x = 2.6411123576, g(x) = 2.6411123469\n",
      "Iteracao 5: x = 2.6411123469, g(x) = 2.6411123472\n",
      "Iteracao 6: x = 2.6411123472, g(x) = 2.6411123472\n",
      "\n",
      "Raiz encontrada: 2.6411123472\n"
     ]
    }
   ],
   "source": [
    "fixed_point(2, 1e-8,10)"
   ]
  },
  {
   "cell_type": "markdown",
   "id": "collected-cover",
   "metadata": {},
   "source": [
    "#### Testando outros valores de entrada:"
   ]
  },
  {
   "cell_type": "code",
   "execution_count": 6,
   "id": "cellular-hearts",
   "metadata": {},
   "outputs": [
    {
     "name": "stdout",
     "output_type": "stream",
     "text": [
      "Iteracao 0: x = 0.1, g(x) = 2.8508559176812764\n",
      "Iteracao 1: x = 2.6356501553, g(x) = 2.6412599100\n",
      "Iteracao 2: x = 2.6412599100, g(x) = 2.6411083647\n",
      "Iteracao 3: x = 2.6411083647, g(x) = 2.6411124547\n",
      "Iteracao 4: x = 2.6411124547, g(x) = 2.6411123443\n",
      "\n",
      "Raiz encontrada: 2.6411124547\n"
     ]
    }
   ],
   "source": [
    "fixed_point(0.1, 1e-5,10)"
   ]
  },
  {
   "cell_type": "code",
   "execution_count": 7,
   "id": "abstract-outside",
   "metadata": {},
   "outputs": [
    {
     "name": "stdout",
     "output_type": "stream",
     "text": [
      "Iteracao 0: x = 1, g(x) = 2.70805020110221\n",
      "Iteracao 1: x = 2.6393266581, g(x) = 2.6411605569\n",
      "Iteracao 2: x = 2.6411605569, g(x) = 2.6411110460\n",
      "Iteracao 3: x = 2.6411110460, g(x) = 2.6411123823\n",
      "Iteracao 4: x = 2.6411123823, g(x) = 2.6411123462\n",
      "\n",
      "Raiz encontrada: 2.6411123823\n"
     ]
    }
   ],
   "source": [
    "fixed_point(1, 1e-5,10)"
   ]
  },
  {
   "cell_type": "code",
   "execution_count": 8,
   "id": "spare-milton",
   "metadata": {},
   "outputs": [
    {
     "name": "stdout",
     "output_type": "stream",
     "text": [
      "Iteracao 0: x = 4, g(x) = 2.611077052849892\n",
      "Iteracao 1: x = 2.6419272930, g(x) = 2.6410903555\n",
      "Iteracao 2: x = 2.6410903555, g(x) = 2.6411129407\n",
      "Iteracao 3: x = 2.6411129407, g(x) = 2.6411123312\n",
      "Iteracao 4: x = 2.6411123312, g(x) = 2.6411123476\n",
      "\n",
      "Raiz encontrada: 2.6411123312\n"
     ]
    }
   ],
   "source": [
    "fixed_point(4, 1e-5,10)"
   ]
  },
  {
   "cell_type": "code",
   "execution_count": 9,
   "id": "bound-charge",
   "metadata": {},
   "outputs": [
    {
     "name": "stdout",
     "output_type": "stream",
     "text": [
      "Iteracao 0: x = 10, g(x) = 2.541398422115852\n",
      "Iteracao 1: x = 2.6438519250, g(x) = 2.6410384433\n",
      "Iteracao 2: x = 2.6410384433, g(x) = 2.6411143418\n",
      "Iteracao 3: x = 2.6411143418, g(x) = 2.6411122934\n",
      "Iteracao 4: x = 2.6411122934, g(x) = 2.6411123486\n",
      "\n",
      "Raiz encontrada: 2.6411122934\n"
     ]
    }
   ],
   "source": [
    "fixed_point(10, 1e-5,10)"
   ]
  },
  {
   "cell_type": "code",
   "execution_count": 10,
   "id": "english-february",
   "metadata": {},
   "outputs": [
    {
     "name": "stdout",
     "output_type": "stream",
     "text": [
      "Iteracao 0: x = 2.65, g(x) = 2.6408728491334483\n",
      "Iteracao 1: x = 2.6411188114, g(x) = 2.6411121727\n",
      "Iteracao 2: x = 2.6411121727, g(x) = 2.6411123519\n",
      "\n",
      "Raiz encontrada: 2.6411121727\n"
     ]
    }
   ],
   "source": [
    "fixed_point(2.65, 1e-5,10)"
   ]
  },
  {
   "cell_type": "code",
   "execution_count": 11,
   "id": "meaning-thanks",
   "metadata": {},
   "outputs": [
    {
     "name": "stdout",
     "output_type": "stream",
     "text": [
      "Iteracao 0: x = 2.65, g(x) = 2.6408728491334483\n",
      "Iteracao 1: x = 2.6411188114, g(x) = 2.6411121727\n",
      "\n",
      "Raiz encontrada: 2.6411188114\n"
     ]
    }
   ],
   "source": [
    "fixed_point(2.65, 1e-3,10)"
   ]
  },
  {
   "cell_type": "code",
   "execution_count": 12,
   "id": "african-hours",
   "metadata": {},
   "outputs": [
    {
     "name": "stdout",
     "output_type": "stream",
     "text": [
      "Iteracao 0: x = 2.65, g(x) = 2.6408728491334483\n",
      "\n",
      "Raiz encontrada: 2.6408728491\n"
     ]
    }
   ],
   "source": [
    "fixed_point(2.65, 1e-2,10)"
   ]
  },
  {
   "cell_type": "markdown",
   "id": "miniature-maldives",
   "metadata": {},
   "source": [
    "### Método de Newton-Ralphson"
   ]
  },
  {
   "cell_type": "code",
   "execution_count": 13,
   "id": "blond-carnival",
   "metadata": {},
   "outputs": [
    {
     "name": "stdout",
     "output_type": "stream",
     "text": [
      "Iteracao 0: x = 2, f(x) = 0.6607386406201794\n",
      "Iteracao 1: x = 2.6155250133, f(x) = 0.0262810460\n",
      "Iteracao 2: x = 2.6398571879, f(x) = 0.0012890427\n",
      "Iteracao 3: x = 2.6410503013, f(x) = 0.0000637205\n",
      "Iteracao 4: x = 2.6411092789, f(x) = 0.0000031511\n",
      "Iteracao 5: x = 2.6411121955, f(x) = 0.0000001558\n",
      "Iteracao 6: x = 2.6411123397, f(x) = 0.0000000077\n",
      "\n",
      "Raiz encontrada: 2.6411123397\n"
     ]
    }
   ],
   "source": [
    "def f_nr(x):\n",
    "    return np.log(15 - np.log(x)) - x\n",
    " \n",
    "def dfdx(x):\n",
    "    return -1 + 1/(x*np.log(x)-15)\n",
    "\n",
    "\n",
    "def newtonMethod(x0,tol):\n",
    "    count = 0  \n",
    "    x0 = 2  \n",
    "    xi = x0\n",
    "    print('Iteracao' + \" \" + str(count) + ': x = ' + str(x0) + ', f(x) = ' + str(f_nr(x0)))\n",
    "    while abs(f_nr(xi)) > tol:\n",
    "        x_new = xi-f_nr(xi)/dfdx(xi) \n",
    "        print('Iteracao %d: x = %0.10f, f(x) = %0.10f' % (count+1, x_new, f_nr(x_new)))\n",
    "        xi = x_new\n",
    "        count += 1\n",
    "\n",
    "    print('\\nRaiz encontrada: %0.10f' % x_new)\n",
    "    \n",
    "newtonMethod(2,1e-8)   "
   ]
  },
  {
   "cell_type": "code",
   "execution_count": 14,
   "id": "suspended-eugene",
   "metadata": {},
   "outputs": [
    {
     "name": "stdout",
     "output_type": "stream",
     "text": [
      "Iteracao 0: x = 2, f(x) = 0.6607386406201794\n",
      "Iteracao 1: x = 2.6155250133, f(x) = 0.0262810460\n",
      "Iteracao 2: x = 2.6398571879, f(x) = 0.0012890427\n",
      "Iteracao 3: x = 2.6410503013, f(x) = 0.0000637205\n",
      "Iteracao 4: x = 2.6411092789, f(x) = 0.0000031511\n",
      "Iteracao 5: x = 2.6411121955, f(x) = 0.0000001558\n",
      "Iteracao 6: x = 2.6411123397, f(x) = 0.0000000077\n",
      "Iteracao 7: x = 2.6411123468, f(x) = 0.0000000004\n",
      "\n",
      "Raiz encontrada: 2.6411123468\n"
     ]
    }
   ],
   "source": [
    "newtonMethod(2,1e-9)  "
   ]
  },
  {
   "cell_type": "markdown",
   "id": "killing-posting",
   "metadata": {},
   "source": [
    "### Extra: Método de Regula-Falsi"
   ]
  },
  {
   "cell_type": "code",
   "execution_count": 15,
   "id": "official-orange",
   "metadata": {},
   "outputs": [],
   "source": [
    "def f_rf(x):\n",
    "    return np.log(15 - np.log(x)) - x \n",
    "\n",
    "def falsePosition(b,a,tol):\n",
    "    b = float(b)\n",
    "    a = float(a)\n",
    "    tol = float(tol)\n",
    "    \n",
    "    \n",
    "    # Checa a corretude da falsa posição\n",
    "    if f_rf(b) * f_rf(a) > 0.0:\n",
    "        print('Valores não convergem para a raiz. Escolha outros valores.')\n",
    "    else: \n",
    "        count = 1\n",
    "        condition = True\n",
    "        while condition:\n",
    "            x_new = b - (((a-b) * f_rf(b))/(f_rf(a) - f_rf(b)))\n",
    "            print('Iteracao %d: x_new = %0.10f, f_rf(x_new) = %0.10f' % (count, x_new, f_rf(x_new)))\n",
    "\n",
    "            if f_rf(b) * f_rf(x_new) < 0:\n",
    "                a = x_new\n",
    "            else:\n",
    "                b = x_new\n",
    "\n",
    "            count += 1\n",
    "            condition = abs(f_rf(x_new)) > tol\n",
    "\n",
    "        print('\\nRaiz encontrada: %0.10f' % x_new)    \n"
   ]
  },
  {
   "cell_type": "code",
   "execution_count": 16,
   "id": "scenic-competition",
   "metadata": {},
   "outputs": [
    {
     "name": "stdout",
     "output_type": "stream",
     "text": [
      "Iteracao 1: x_new = 2.6454716548, f_rf(x_new) = -0.0044768724\n",
      "Iteracao 2: x_new = 2.6411700780, f_rf(x_new) = -0.0000592889\n",
      "Iteracao 3: x_new = 2.6411131126, f_rf(x_new) = -0.0000007860\n",
      "\n",
      "Raiz encontrada: 2.6411131126\n"
     ]
    }
   ],
   "source": [
    "b = 1\n",
    "a = 3\n",
    "tol=1e-5\n",
    "\n",
    "\n",
    "b = float(b)\n",
    "a = float(a)\n",
    "tol = float(tol)\n",
    "\n",
    "falsePosition(b,a,tol)"
   ]
  },
  {
   "cell_type": "code",
   "execution_count": 17,
   "id": "after-spider",
   "metadata": {},
   "outputs": [
    {
     "name": "stdout",
     "output_type": "stream",
     "text": [
      "Iteracao 1: x_new = 2.6454716548, f_rf(x_new) = -0.0044768724\n",
      "Iteracao 2: x_new = 2.6411700780, f_rf(x_new) = -0.0000592889\n",
      "Iteracao 3: x_new = 2.6411131126, f_rf(x_new) = -0.0000007860\n",
      "Iteracao 4: x_new = 2.6411123573, f_rf(x_new) = -0.0000000104\n",
      "Iteracao 5: x_new = 2.6411123473, f_rf(x_new) = -0.0000000001\n",
      "\n",
      "Raiz encontrada: 2.6411123473\n"
     ]
    }
   ],
   "source": [
    "b = 1\n",
    "a = 3\n",
    "tol=1e-8\n",
    "\n",
    "\n",
    "b = float(b)\n",
    "a = float(a)\n",
    "tol = float(tol)\n",
    "\n",
    "falsePosition(b,a,tol)"
   ]
  },
  {
   "cell_type": "code",
   "execution_count": 18,
   "id": "south-payday",
   "metadata": {},
   "outputs": [
    {
     "name": "stdout",
     "output_type": "stream",
     "text": [
      "Valores não convergem para a raiz. Escolha outros valores.\n"
     ]
    }
   ],
   "source": [
    "b = 1\n",
    "a = 2\n",
    "tol=1e-5\n",
    "\n",
    "\n",
    "b = float(b)\n",
    "a = float(a)\n",
    "tol = float(tol)\n",
    "\n",
    "falsePosition(b,a,tol)"
   ]
  },
  {
   "cell_type": "code",
   "execution_count": 19,
   "id": "whole-racing",
   "metadata": {},
   "outputs": [
    {
     "name": "stdout",
     "output_type": "stream",
     "text": [
      "Valores não convergem para a raiz. Escolha outros valores.\n"
     ]
    }
   ],
   "source": [
    "b = 2.8\n",
    "a = 4\n",
    "tol=1e-8\n",
    "\n",
    "\n",
    "b = float(b)\n",
    "a = float(a)\n",
    "tol = float(tol)\n",
    "\n",
    "falsePosition(b,a,tol)"
   ]
  },
  {
   "cell_type": "code",
   "execution_count": null,
   "id": "thousand-designation",
   "metadata": {},
   "outputs": [],
   "source": []
  }
 ],
 "metadata": {
  "kernelspec": {
   "display_name": "Python 3",
   "language": "python",
   "name": "python3"
  },
  "language_info": {
   "codemirror_mode": {
    "name": "ipython",
    "version": 3
   },
   "file_extension": ".py",
   "mimetype": "text/x-python",
   "name": "python",
   "nbconvert_exporter": "python",
   "pygments_lexer": "ipython3",
   "version": "3.8.5"
  }
 },
 "nbformat": 4,
 "nbformat_minor": 5
}
